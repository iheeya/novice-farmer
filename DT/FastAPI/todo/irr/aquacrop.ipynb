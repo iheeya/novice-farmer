{
 "cells": [
  {
   "cell_type": "code",
   "execution_count": 4,
   "metadata": {},
   "outputs": [
    {
     "name": "stdout",
     "output_type": "stream",
     "text": [
      "Requirement already satisfied: pip in c:\\users\\ssafy\\appdata\\local\\programs\\python\\python310\\lib\\site-packages (24.2)\n",
      "Note: you may need to restart the kernel to use updated packages.\n"
     ]
    }
   ],
   "source": [
    "%pip install --upgrade pip\n"
   ]
  },
  {
   "cell_type": "code",
   "execution_count": 5,
   "metadata": {},
   "outputs": [
    {
     "name": "stdout",
     "output_type": "stream",
     "text": [
      "Note: you may need to restart the kernel to use updated packages.Collecting numpy==1.23.0\n",
      "  Using cached numpy-1.23.0-cp310-cp310-win_amd64.whl.metadata (2.2 kB)\n",
      "Using cached numpy-1.23.0-cp310-cp310-win_amd64.whl (14.6 MB)\n",
      "Installing collected packages: numpy\n",
      "  Attempting uninstall: numpy\n",
      "    Found existing installation: numpy 1.22.4\n",
      "    Uninstalling numpy-1.22.4:\n",
      "      Successfully uninstalled numpy-1.22.4\n",
      "Successfully installed numpy-1.23.0\n",
      "\n"
     ]
    },
    {
     "name": "stderr",
     "output_type": "stream",
     "text": [
      "ERROR: pip's dependency resolver does not currently take into account all the packages that are installed. This behaviour is the source of the following dependency conflicts.\n",
      "aquacrop 3.0.9 requires numpy==1.22.4, but you have numpy 1.23.0 which is incompatible.\n"
     ]
    }
   ],
   "source": [
    "%pip install numpy==1.23.0"
   ]
  },
  {
   "cell_type": "code",
   "execution_count": 6,
   "metadata": {},
   "outputs": [
    {
     "name": "stdout",
     "output_type": "stream",
     "text": [
      "Requirement already satisfied: pandas==2.1.4 in c:\\users\\ssafy\\appdata\\local\\programs\\python\\python310\\lib\\site-packages (2.1.4)\n",
      "Requirement already satisfied: scipy==1.10.1 in c:\\users\\ssafy\\appdata\\local\\programs\\python\\python310\\lib\\site-packages (1.10.1)\n",
      "Requirement already satisfied: cffi==1.16.0 in c:\\users\\ssafy\\appdata\\local\\programs\\python\\python310\\lib\\site-packages (1.16.0)\n",
      "Requirement already satisfied: matplotlib==3.5.0 in c:\\users\\ssafy\\appdata\\local\\programs\\python\\python310\\lib\\site-packages (3.5.0)\n",
      "Requirement already satisfied: numpy<2,>=1.22.4 in c:\\users\\ssafy\\appdata\\local\\programs\\python\\python310\\lib\\site-packages (from pandas==2.1.4) (1.23.0)\n",
      "Requirement already satisfied: python-dateutil>=2.8.2 in c:\\users\\ssafy\\appdata\\roaming\\python\\python310\\site-packages (from pandas==2.1.4) (2.9.0.post0)\n",
      "Requirement already satisfied: pytz>=2020.1 in c:\\users\\ssafy\\appdata\\local\\programs\\python\\python310\\lib\\site-packages (from pandas==2.1.4) (2024.2)\n",
      "Requirement already satisfied: tzdata>=2022.1 in c:\\users\\ssafy\\appdata\\local\\programs\\python\\python310\\lib\\site-packages (from pandas==2.1.4) (2024.2)\n",
      "Requirement already satisfied: pycparser in c:\\users\\ssafy\\appdata\\local\\programs\\python\\python310\\lib\\site-packages (from cffi==1.16.0) (2.22)\n",
      "Requirement already satisfied: cycler>=0.10 in c:\\users\\ssafy\\appdata\\local\\programs\\python\\python310\\lib\\site-packages (from matplotlib==3.5.0) (0.12.1)\n",
      "Requirement already satisfied: fonttools>=4.22.0 in c:\\users\\ssafy\\appdata\\local\\programs\\python\\python310\\lib\\site-packages (from matplotlib==3.5.0) (4.54.1)\n",
      "Requirement already satisfied: kiwisolver>=1.0.1 in c:\\users\\ssafy\\appdata\\local\\programs\\python\\python310\\lib\\site-packages (from matplotlib==3.5.0) (1.4.7)\n",
      "Requirement already satisfied: packaging>=20.0 in c:\\users\\ssafy\\appdata\\roaming\\python\\python310\\site-packages (from matplotlib==3.5.0) (24.1)\n",
      "Requirement already satisfied: pillow>=6.2.0 in c:\\users\\ssafy\\appdata\\local\\programs\\python\\python310\\lib\\site-packages (from matplotlib==3.5.0) (10.4.0)\n",
      "Requirement already satisfied: pyparsing>=2.2.1 in c:\\users\\ssafy\\appdata\\local\\programs\\python\\python310\\lib\\site-packages (from matplotlib==3.5.0) (3.1.4)\n",
      "Requirement already satisfied: setuptools-scm>=4 in c:\\users\\ssafy\\appdata\\local\\programs\\python\\python310\\lib\\site-packages (from matplotlib==3.5.0) (8.1.0)\n",
      "Requirement already satisfied: six>=1.5 in c:\\users\\ssafy\\appdata\\roaming\\python\\python310\\site-packages (from python-dateutil>=2.8.2->pandas==2.1.4) (1.16.0)\n",
      "Requirement already satisfied: setuptools in c:\\users\\ssafy\\appdata\\local\\programs\\python\\python310\\lib\\site-packages (from setuptools-scm>=4->matplotlib==3.5.0) (65.5.0)\n",
      "Requirement already satisfied: tomli>=1 in c:\\users\\ssafy\\appdata\\local\\programs\\python\\python310\\lib\\site-packages (from setuptools-scm>=4->matplotlib==3.5.0) (2.0.1)\n",
      "Note: you may need to restart the kernel to use updated packages.\n"
     ]
    }
   ],
   "source": [
    "%pip install pandas==2.1.4 scipy==1.10.1 cffi==1.16.0 matplotlib==3.5.0"
   ]
  },
  {
   "cell_type": "code",
   "execution_count": 7,
   "metadata": {},
   "outputs": [
    {
     "name": "stdout",
     "output_type": "stream",
     "text": [
      "Requirement already satisfied: aquacrop in c:\\users\\ssafy\\appdata\\local\\programs\\python\\python310\\lib\\site-packages (3.0.9)\n",
      "Requirement already satisfied: numba>=0.56.0 in c:\\users\\ssafy\\appdata\\local\\programs\\python\\python310\\lib\\site-packages (from aquacrop) (0.60.0)\n",
      "Collecting numpy==1.22.4 (from aquacrop)\n",
      "  Using cached numpy-1.22.4-cp310-cp310-win_amd64.whl.metadata (2.1 kB)\n",
      "Requirement already satisfied: pandas>=1.3.5 in c:\\users\\ssafy\\appdata\\local\\programs\\python\\python310\\lib\\site-packages (from aquacrop) (2.1.4)\n",
      "Requirement already satisfied: tqdm>=4.64.0 in c:\\users\\ssafy\\appdata\\local\\programs\\python\\python310\\lib\\site-packages (from aquacrop) (4.66.5)\n",
      "Requirement already satisfied: cffi==1.16.0 in c:\\users\\ssafy\\appdata\\local\\programs\\python\\python310\\lib\\site-packages (from aquacrop) (1.16.0)\n",
      "Requirement already satisfied: pycparser in c:\\users\\ssafy\\appdata\\local\\programs\\python\\python310\\lib\\site-packages (from cffi==1.16.0->aquacrop) (2.22)\n",
      "Requirement already satisfied: llvmlite<0.44,>=0.43.0dev0 in c:\\users\\ssafy\\appdata\\local\\programs\\python\\python310\\lib\\site-packages (from numba>=0.56.0->aquacrop) (0.43.0)\n",
      "Requirement already satisfied: python-dateutil>=2.8.2 in c:\\users\\ssafy\\appdata\\roaming\\python\\python310\\site-packages (from pandas>=1.3.5->aquacrop) (2.9.0.post0)\n",
      "Requirement already satisfied: pytz>=2020.1 in c:\\users\\ssafy\\appdata\\local\\programs\\python\\python310\\lib\\site-packages (from pandas>=1.3.5->aquacrop) (2024.2)\n",
      "Requirement already satisfied: tzdata>=2022.1 in c:\\users\\ssafy\\appdata\\local\\programs\\python\\python310\\lib\\site-packages (from pandas>=1.3.5->aquacrop) (2024.2)\n",
      "Requirement already satisfied: colorama in c:\\users\\ssafy\\appdata\\roaming\\python\\python310\\site-packages (from tqdm>=4.64.0->aquacrop) (0.4.6)\n",
      "Requirement already satisfied: six>=1.5 in c:\\users\\ssafy\\appdata\\roaming\\python\\python310\\site-packages (from python-dateutil>=2.8.2->pandas>=1.3.5->aquacrop) (1.16.0)\n",
      "Using cached numpy-1.22.4-cp310-cp310-win_amd64.whl (14.7 MB)\n",
      "Installing collected packages: numpy\n",
      "  Attempting uninstall: numpy\n",
      "    Found existing installation: numpy 1.23.0\n",
      "    Uninstalling numpy-1.23.0:\n",
      "      Successfully uninstalled numpy-1.23.0\n",
      "Successfully installed numpy-1.22.4\n",
      "Note: you may need to restart the kernel to use updated packages.\n"
     ]
    }
   ],
   "source": [
    "%pip install aquacrop"
   ]
  },
  {
   "cell_type": "code",
   "execution_count": 8,
   "metadata": {},
   "outputs": [],
   "source": [
    "import os\n",
    "os.environ['DEVELOPMENT'] = 'True'"
   ]
  },
  {
   "cell_type": "code",
   "execution_count": 11,
   "metadata": {},
   "outputs": [
    {
     "name": "stderr",
     "output_type": "stream",
     "text": [
      "INFO:root:Running the simulation in development mode.\n"
     ]
    }
   ],
   "source": [
    "from aquacrop import AquaCropModel, Soil, Crop, InitialWaterContent, FieldMngt, GroundWater\n",
    "from aquacrop.utils import prepare_weather, get_filepath\n",
    "\n",
    "import pandas as pd\n",
    "import matplotlib.pyplot as plt\n"
   ]
  },
  {
   "cell_type": "code",
   "execution_count": 12,
   "metadata": {},
   "outputs": [
    {
     "data": {
      "text/html": [
       "<div>\n",
       "<style scoped>\n",
       "    .dataframe tbody tr th:only-of-type {\n",
       "        vertical-align: middle;\n",
       "    }\n",
       "\n",
       "    .dataframe tbody tr th {\n",
       "        vertical-align: top;\n",
       "    }\n",
       "\n",
       "    .dataframe thead th {\n",
       "        text-align: right;\n",
       "    }\n",
       "</style>\n",
       "<table border=\"1\" class=\"dataframe\">\n",
       "  <thead>\n",
       "    <tr style=\"text-align: right;\">\n",
       "      <th></th>\n",
       "      <th>지점명</th>\n",
       "      <th>Date</th>\n",
       "      <th>AvgTemp</th>\n",
       "      <th>MaxTemp</th>\n",
       "      <th>MinTemp</th>\n",
       "      <th>Precipitation</th>\n",
       "      <th>DayOfYear</th>\n",
       "      <th>ReferenceET</th>\n",
       "    </tr>\n",
       "  </thead>\n",
       "  <tbody>\n",
       "    <tr>\n",
       "      <th>0</th>\n",
       "      <td>구미</td>\n",
       "      <td>2023-01-01</td>\n",
       "      <td>0.6</td>\n",
       "      <td>7.4</td>\n",
       "      <td>-5.9</td>\n",
       "      <td>0.0</td>\n",
       "      <td>1</td>\n",
       "      <td>2.426</td>\n",
       "    </tr>\n",
       "    <tr>\n",
       "      <th>1</th>\n",
       "      <td>구미</td>\n",
       "      <td>2023-01-02</td>\n",
       "      <td>-0.5</td>\n",
       "      <td>4.1</td>\n",
       "      <td>-4.4</td>\n",
       "      <td>0.0</td>\n",
       "      <td>2</td>\n",
       "      <td>1.829</td>\n",
       "    </tr>\n",
       "    <tr>\n",
       "      <th>2</th>\n",
       "      <td>구미</td>\n",
       "      <td>2023-01-03</td>\n",
       "      <td>-0.9</td>\n",
       "      <td>4.4</td>\n",
       "      <td>-5.3</td>\n",
       "      <td>0.0</td>\n",
       "      <td>3</td>\n",
       "      <td>1.916</td>\n",
       "    </tr>\n",
       "    <tr>\n",
       "      <th>3</th>\n",
       "      <td>구미</td>\n",
       "      <td>2023-01-04</td>\n",
       "      <td>-0.7</td>\n",
       "      <td>6.7</td>\n",
       "      <td>-6.0</td>\n",
       "      <td>0.0</td>\n",
       "      <td>4</td>\n",
       "      <td>2.227</td>\n",
       "    </tr>\n",
       "    <tr>\n",
       "      <th>4</th>\n",
       "      <td>구미</td>\n",
       "      <td>2023-01-05</td>\n",
       "      <td>-1.0</td>\n",
       "      <td>7.1</td>\n",
       "      <td>-7.0</td>\n",
       "      <td>0.0</td>\n",
       "      <td>5</td>\n",
       "      <td>2.315</td>\n",
       "    </tr>\n",
       "    <tr>\n",
       "      <th>...</th>\n",
       "      <td>...</td>\n",
       "      <td>...</td>\n",
       "      <td>...</td>\n",
       "      <td>...</td>\n",
       "      <td>...</td>\n",
       "      <td>...</td>\n",
       "      <td>...</td>\n",
       "      <td>...</td>\n",
       "    </tr>\n",
       "    <tr>\n",
       "      <th>360</th>\n",
       "      <td>구미</td>\n",
       "      <td>2023-12-27</td>\n",
       "      <td>2.4</td>\n",
       "      <td>9.0</td>\n",
       "      <td>-1.4</td>\n",
       "      <td>0.0</td>\n",
       "      <td>361</td>\n",
       "      <td>2.325</td>\n",
       "    </tr>\n",
       "    <tr>\n",
       "      <th>361</th>\n",
       "      <td>구미</td>\n",
       "      <td>2023-12-28</td>\n",
       "      <td>1.6</td>\n",
       "      <td>9.2</td>\n",
       "      <td>-3.7</td>\n",
       "      <td>0.0</td>\n",
       "      <td>362</td>\n",
       "      <td>2.492</td>\n",
       "    </tr>\n",
       "    <tr>\n",
       "      <th>362</th>\n",
       "      <td>구미</td>\n",
       "      <td>2023-12-29</td>\n",
       "      <td>1.8</td>\n",
       "      <td>8.8</td>\n",
       "      <td>-3.6</td>\n",
       "      <td>0.0</td>\n",
       "      <td>363</td>\n",
       "      <td>2.474</td>\n",
       "    </tr>\n",
       "    <tr>\n",
       "      <th>363</th>\n",
       "      <td>구미</td>\n",
       "      <td>2023-12-30</td>\n",
       "      <td>1.8</td>\n",
       "      <td>5.5</td>\n",
       "      <td>-3.2</td>\n",
       "      <td>0.3</td>\n",
       "      <td>364</td>\n",
       "      <td>2.077</td>\n",
       "    </tr>\n",
       "    <tr>\n",
       "      <th>364</th>\n",
       "      <td>구미</td>\n",
       "      <td>2023-12-31</td>\n",
       "      <td>4.0</td>\n",
       "      <td>7.8</td>\n",
       "      <td>1.9</td>\n",
       "      <td>0.7</td>\n",
       "      <td>365</td>\n",
       "      <td>1.908</td>\n",
       "    </tr>\n",
       "  </tbody>\n",
       "</table>\n",
       "<p>365 rows × 8 columns</p>\n",
       "</div>"
      ],
      "text/plain": [
       "    지점명        Date  AvgTemp  MaxTemp  MinTemp  Precipitation  DayOfYear  \\\n",
       "0    구미  2023-01-01      0.6      7.4     -5.9            0.0          1   \n",
       "1    구미  2023-01-02     -0.5      4.1     -4.4            0.0          2   \n",
       "2    구미  2023-01-03     -0.9      4.4     -5.3            0.0          3   \n",
       "3    구미  2023-01-04     -0.7      6.7     -6.0            0.0          4   \n",
       "4    구미  2023-01-05     -1.0      7.1     -7.0            0.0          5   \n",
       "..   ..         ...      ...      ...      ...            ...        ...   \n",
       "360  구미  2023-12-27      2.4      9.0     -1.4            0.0        361   \n",
       "361  구미  2023-12-28      1.6      9.2     -3.7            0.0        362   \n",
       "362  구미  2023-12-29      1.8      8.8     -3.6            0.0        363   \n",
       "363  구미  2023-12-30      1.8      5.5     -3.2            0.3        364   \n",
       "364  구미  2023-12-31      4.0      7.8      1.9            0.7        365   \n",
       "\n",
       "     ReferenceET  \n",
       "0          2.426  \n",
       "1          1.829  \n",
       "2          1.916  \n",
       "3          2.227  \n",
       "4          2.315  \n",
       "..           ...  \n",
       "360        2.325  \n",
       "361        2.492  \n",
       "362        2.474  \n",
       "363        2.077  \n",
       "364        1.908  \n",
       "\n",
       "[365 rows x 8 columns]"
      ]
     },
     "execution_count": 12,
     "metadata": {},
     "output_type": "execute_result"
    }
   ],
   "source": [
    "df = pd.read_csv('test_data.csv')\n",
    "df\n"
   ]
  },
  {
   "cell_type": "code",
   "execution_count": 13,
   "metadata": {},
   "outputs": [],
   "source": [
    "import math\n",
    "from datetime import datetime"
   ]
  },
  {
   "cell_type": "code",
   "execution_count": 14,
   "metadata": {},
   "outputs": [],
   "source": [
    "def hargreaves_evapotranspiration(tmax, tmin, tmean, lat, doy):\n",
    "    Gsc = 0.0820\n",
    "    phi = math.radians(lat)\n",
    "    delta = 0.409 * math.sin((2 * math.pi / 365) * doy - 1.39)\n",
    "    omega_s = math.acos(-math.tan(phi) * math.tan(delta))\n",
    "    Ra = (24 * 60 / math.pi) * Gsc * (omega_s * math.sin(phi) * math.sin(delta) + math.cos(phi) * math.cos(delta) * math.sin(omega_s))\n",
    "    ET0 = 0.0023 * Ra * ((tmax - tmin) ** 0.5) * (tmean + 17.8)\n",
    "    return ET0"
   ]
  },
  {
   "cell_type": "code",
   "execution_count": 15,
   "metadata": {},
   "outputs": [],
   "source": [
    "def get_day_of_year(date_str):\n",
    "    date = datetime.strptime(date_str, \"%Y-%m-%d\")\n",
    "    return date.timetuple().tm_yday"
   ]
  },
  {
   "cell_type": "code",
   "execution_count": 16,
   "metadata": {},
   "outputs": [
    {
     "name": "stdout",
     "output_type": "stream",
     "text": [
      "    지점명        Date  AvgTemp  MaxTemp  MinTemp  Precipitation  DayOfYear  \\\n",
      "0    구미  2023-01-01      0.6      7.4     -5.9            0.0          1   \n",
      "1    구미  2023-01-02     -0.5      4.1     -4.4            0.0          2   \n",
      "2    구미  2023-01-03     -0.9      4.4     -5.3            0.0          3   \n",
      "3    구미  2023-01-04     -0.7      6.7     -6.0            0.0          4   \n",
      "4    구미  2023-01-05     -1.0      7.1     -7.0            0.0          5   \n",
      "..   ..         ...      ...      ...      ...            ...        ...   \n",
      "360  구미  2023-12-27      2.4      9.0     -1.4            0.0        361   \n",
      "361  구미  2023-12-28      1.6      9.2     -3.7            0.0        362   \n",
      "362  구미  2023-12-29      1.8      8.8     -3.6            0.0        363   \n",
      "363  구미  2023-12-30      1.8      5.5     -3.2            0.3        364   \n",
      "364  구미  2023-12-31      4.0      7.8      1.9            0.7        365   \n",
      "\n",
      "     ReferenceET  \n",
      "0          2.426  \n",
      "1          1.829  \n",
      "2          1.916  \n",
      "3          2.227  \n",
      "4          2.315  \n",
      "..           ...  \n",
      "360        2.325  \n",
      "361        2.492  \n",
      "362        2.474  \n",
      "363        2.077  \n",
      "364        1.908  \n",
      "\n",
      "[365 rows x 8 columns]\n"
     ]
    }
   ],
   "source": [
    "latitude = 36.1190\n",
    "df['DayOfYear'] = df['Date'].apply(get_day_of_year)  # DOY 계산\n",
    "df['ReferenceET'] = round(df.apply(lambda row: hargreaves_evapotranspiration(row['MaxTemp'], row['MinTemp'], row['AvgTemp'], latitude, row['DayOfYear']), axis=1),3)\n",
    "\n",
    "print(df)\n",
    "\n",
    "df.to_csv('test_data.csv', index=False)"
   ]
  },
  {
   "cell_type": "code",
   "execution_count": 17,
   "metadata": {},
   "outputs": [
    {
     "name": "stdout",
     "output_type": "stream",
     "text": [
      "     Day  Month  Year  MinTemp  MaxTemp  Precipitation  ReferenceET\n",
      "0      1      1  2023     -5.9      7.4            0.0        2.426\n",
      "1      2      1  2023     -4.4      4.1            0.0        1.829\n",
      "2      3      1  2023     -5.3      4.4            0.0        1.916\n",
      "3      4      1  2023     -6.0      6.7            0.0        2.227\n",
      "4      5      1  2023     -7.0      7.1            0.0        2.315\n",
      "..   ...    ...   ...      ...      ...            ...          ...\n",
      "360   27     12  2023     -1.4      9.0            0.0        2.325\n",
      "361   28     12  2023     -3.7      9.2            0.0        2.492\n",
      "362   29     12  2023     -3.6      8.8            0.0        2.474\n",
      "363   30     12  2023     -3.2      5.5            0.3        2.077\n",
      "364   31     12  2023      1.9      7.8            0.7        1.908\n",
      "\n",
      "[365 rows x 7 columns]\n"
     ]
    }
   ],
   "source": [
    "# CSV 파일 읽기\n",
    "filepath = 'C:\\\\Users\\\\SSAFY\\\\Desktop\\\\Data\\\\S11P21D207\\\\DT\\\\FastAPI\\\\todo\\\\irr\\\\test_data.csv'\n",
    "weather_df = pd.read_csv(filepath)\n",
    "\n",
    "# Date 열을 Day, Month, Year로 분리\n",
    "weather_df['Date'] = pd.to_datetime(weather_df['Date'])\n",
    "weather_df['Day'] = weather_df['Date'].dt.day\n",
    "weather_df['Month'] = weather_df['Date'].dt.month\n",
    "weather_df['Year'] = weather_df['Date'].dt.year\n",
    "\n",
    "# 필요 없는 열 삭제 (DayOfYear는 필요 없음)\n",
    "weather_df = weather_df.drop(columns=['Date', 'DayOfYear'])\n",
    "\n",
    "# prepare_weather 함수가 기대하는 열 순서로 재정렬\n",
    "weather_df = weather_df[['Day', 'Month', 'Year', 'MinTemp', 'MaxTemp', 'Precipitation', 'ReferenceET']]\n",
    "\n",
    "# 데이터 출력\n",
    "print(weather_df)\n",
    "\n",
    "# 필요한 경우 DataFrame을 prepare_weather 함수에 넘기기 전에 저장\n",
    "# weather_df.to_csv('processed_test_data.csv', index=False)\n"
   ]
  },
  {
   "cell_type": "code",
   "execution_count": 18,
   "metadata": {},
   "outputs": [],
   "source": [
    "silt_loam = Soil(soil_type='SiltLoam')\n",
    "maize = Crop('Maize', planting_date='05/01')"
   ]
  },
  {
   "cell_type": "code",
   "execution_count": 19,
   "metadata": {},
   "outputs": [],
   "source": [
    "InitWC = InitialWaterContent(\n",
    "    wc_type='Num',  # 값의 유형을 수치적으로 설정\n",
    "    value=[0.3]  # 모든 토양층에서 0.3 m³/m³로 설정\n",
    ")"
   ]
  },
  {
   "cell_type": "code",
   "execution_count": 20,
   "metadata": {},
   "outputs": [
    {
     "name": "stdout",
     "output_type": "stream",
     "text": [
      "        Date  MinTemp  MaxTemp  Precipitation  ReferenceET\n",
      "0 2023-01-01     -5.9      7.4            0.0        2.426\n",
      "1 2023-01-02     -4.4      4.1            0.0        1.829\n",
      "2 2023-01-03     -5.3      4.4            0.0        1.916\n",
      "3 2023-01-04     -6.0      6.7            0.0        2.227\n",
      "4 2023-01-05     -7.0      7.1            0.0        2.315\n"
     ]
    }
   ],
   "source": [
    "# 'Day', 'Month', 'Year'를 하나의 'Date'로 결합\n",
    "weather_df['Date'] = pd.to_datetime(weather_df[['Year', 'Month', 'Day']])\n",
    "\n",
    "# 불필요한 'Day', 'Month', 'Year' 열 삭제\n",
    "weather_df = weather_df.drop(columns=['Day', 'Month', 'Year'])\n",
    "\n",
    "# 필요한 열로 재정렬\n",
    "weather_df = weather_df[['Date', 'MinTemp', 'MaxTemp', 'Precipitation', 'ReferenceET']]\n",
    "\n",
    "# 결과 출력\n",
    "print(weather_df.head())\n",
    "\n",
    "# weather_df.to_csv('processed_test_data.csv', index=False)"
   ]
  },
  {
   "cell_type": "code",
   "execution_count": 21,
   "metadata": {},
   "outputs": [],
   "source": [
    "weather_df = weather_df.dropna()\n",
    "\n",
    "# sim_start_time과 sim_end_time을 문자열로 제공\n",
    "model = AquaCropModel(\n",
    "    sim_start_time='2023/05/01',\n",
    "    sim_end_time='2023/10/30',\n",
    "    weather_df=weather_df,\n",
    "    soil=silt_loam,\n",
    "    crop=maize,\n",
    "    initial_water_content=InitWC\n",
    ")\n"
   ]
  },
  {
   "cell_type": "code",
   "execution_count": 22,
   "metadata": {},
   "outputs": [
    {
     "name": "stdout",
     "output_type": "stream",
     "text": [
      "Date             datetime64[ns]\n",
      "MinTemp                 float64\n",
      "MaxTemp                 float64\n",
      "Precipitation           float64\n",
      "ReferenceET             float64\n",
      "dtype: object\n"
     ]
    }
   ],
   "source": [
    "# weather_df의 데이터 타입 확인\n",
    "print(weather_df.dtypes)\n",
    "\n",
    "# MinTemp, MaxTemp 열을 float으로 강제 변환\n",
    "weather_df['MinTemp'] = weather_df['MinTemp'].astype(float)\n",
    "weather_df['MaxTemp'] = weather_df['MaxTemp'].astype(float)"
   ]
  },
  {
   "cell_type": "code",
   "execution_count": 27,
   "metadata": {},
   "outputs": [
    {
     "name": "stdout",
     "output_type": "stream",
     "text": [
      "Date             True\n",
      "MinTemp          True\n",
      "MaxTemp          True\n",
      "Precipitation    True\n",
      "ReferenceET      True\n",
      "dtype: bool\n",
      "[False False False False False]\n"
     ]
    }
   ],
   "source": [
    "print(weather_df.notna().all())\n",
    "print(weather_df.columns.duplicated())"
   ]
  },
  {
   "cell_type": "code",
   "execution_count": 26,
   "metadata": {},
   "outputs": [
    {
     "name": "stderr",
     "output_type": "stream",
     "text": [
      "c:\\Users\\SSAFY\\AppData\\Local\\Programs\\Python\\Python310\\lib\\site-packages\\aquacrop\\entities\\soil.py:363: FutureWarning: DataFrame.fillna with 'method' is deprecated and will raise in a future version. Use obj.ffill() or obj.bfill() instead.\n",
      "  self.profile = self.profile.fillna(method=\"ffill\")\n"
     ]
    },
    {
     "ename": "TypeError",
     "evalue": "'<' not supported between instances of 'float' and 'Timestamp'",
     "output_type": "error",
     "traceback": [
      "\u001b[1;31m---------------------------------------------------------------------------\u001b[0m",
      "\u001b[1;31mTypeError\u001b[0m                                 Traceback (most recent call last)",
      "Cell \u001b[1;32mIn[26], line 1\u001b[0m\n\u001b[1;32m----> 1\u001b[0m \u001b[43mmodel\u001b[49m\u001b[38;5;241;43m.\u001b[39;49m\u001b[43mrun_model\u001b[49m\u001b[43m(\u001b[49m\u001b[43mtill_termination\u001b[49m\u001b[38;5;241;43m=\u001b[39;49m\u001b[38;5;28;43;01mTrue\u001b[39;49;00m\u001b[43m)\u001b[49m\n",
      "File \u001b[1;32mc:\\Users\\SSAFY\\AppData\\Local\\Programs\\Python\\Python310\\lib\\site-packages\\aquacrop\\core.py:290\u001b[0m, in \u001b[0;36mAquaCropModel.run_model\u001b[1;34m(self, num_steps, till_termination, initialize_model, process_outputs)\u001b[0m\n\u001b[0;32m    282\u001b[0m \u001b[38;5;28mself\u001b[39m\u001b[38;5;241m.\u001b[39m__start_model_execution \u001b[38;5;241m=\u001b[39m time\u001b[38;5;241m.\u001b[39mtime()\n\u001b[0;32m    283\u001b[0m \u001b[38;5;28;01mwhile\u001b[39;00m \u001b[38;5;28mself\u001b[39m\u001b[38;5;241m.\u001b[39m_clock_struct\u001b[38;5;241m.\u001b[39mmodel_is_finished \u001b[38;5;129;01mis\u001b[39;00m \u001b[38;5;28;01mFalse\u001b[39;00m:\n\u001b[0;32m    285\u001b[0m     (\n\u001b[0;32m    286\u001b[0m         \u001b[38;5;28mself\u001b[39m\u001b[38;5;241m.\u001b[39m_clock_struct,\n\u001b[0;32m    287\u001b[0m         \u001b[38;5;28mself\u001b[39m\u001b[38;5;241m.\u001b[39m_init_cond,\n\u001b[0;32m    288\u001b[0m         \u001b[38;5;28mself\u001b[39m\u001b[38;5;241m.\u001b[39m_param_struct,\n\u001b[0;32m    289\u001b[0m         \u001b[38;5;28mself\u001b[39m\u001b[38;5;241m.\u001b[39m_outputs,\n\u001b[1;32m--> 290\u001b[0m     ) \u001b[38;5;241m=\u001b[39m \u001b[38;5;28;43mself\u001b[39;49m\u001b[38;5;241;43m.\u001b[39;49m\u001b[43m_perform_timestep\u001b[49m\u001b[43m(\u001b[49m\u001b[43m)\u001b[49m\n\u001b[0;32m    291\u001b[0m \u001b[38;5;28mself\u001b[39m\u001b[38;5;241m.\u001b[39m__end_model_execution \u001b[38;5;241m=\u001b[39m time\u001b[38;5;241m.\u001b[39mtime()\n\u001b[0;32m    292\u001b[0m \u001b[38;5;28mself\u001b[39m\u001b[38;5;241m.\u001b[39m__has_model_executed \u001b[38;5;241m=\u001b[39m \u001b[38;5;28;01mTrue\u001b[39;00m\n",
      "File \u001b[1;32mc:\\Users\\SSAFY\\AppData\\Local\\Programs\\Python\\Python310\\lib\\site-packages\\aquacrop\\core.py:336\u001b[0m, in \u001b[0;36mAquaCropModel._perform_timestep\u001b[1;34m(self)\u001b[0m\n\u001b[0;32m    331\u001b[0m weather_step \u001b[38;5;241m=\u001b[39m _weather_data_current_timestep(\n\u001b[0;32m    332\u001b[0m     \u001b[38;5;28mself\u001b[39m\u001b[38;5;241m.\u001b[39m_weather, \u001b[38;5;28mself\u001b[39m\u001b[38;5;241m.\u001b[39m_clock_struct\u001b[38;5;241m.\u001b[39mtime_step_counter\n\u001b[0;32m    333\u001b[0m )\n\u001b[0;32m    335\u001b[0m \u001b[38;5;66;03m# Get model solution_single_time_step\u001b[39;00m\n\u001b[1;32m--> 336\u001b[0m new_cond, param_struct, outputs \u001b[38;5;241m=\u001b[39m \u001b[43msolution_single_time_step\u001b[49m\u001b[43m(\u001b[49m\n\u001b[0;32m    337\u001b[0m \u001b[43m    \u001b[49m\u001b[38;5;28;43mself\u001b[39;49m\u001b[38;5;241;43m.\u001b[39;49m\u001b[43m_init_cond\u001b[49m\u001b[43m,\u001b[49m\n\u001b[0;32m    338\u001b[0m \u001b[43m    \u001b[49m\u001b[38;5;28;43mself\u001b[39;49m\u001b[38;5;241;43m.\u001b[39;49m\u001b[43m_param_struct\u001b[49m\u001b[43m,\u001b[49m\n\u001b[0;32m    339\u001b[0m \u001b[43m    \u001b[49m\u001b[38;5;28;43mself\u001b[39;49m\u001b[38;5;241;43m.\u001b[39;49m\u001b[43m_clock_struct\u001b[49m\u001b[43m,\u001b[49m\n\u001b[0;32m    340\u001b[0m \u001b[43m    \u001b[49m\u001b[43mweather_step\u001b[49m\u001b[43m,\u001b[49m\n\u001b[0;32m    341\u001b[0m \u001b[43m    \u001b[49m\u001b[38;5;28;43mself\u001b[39;49m\u001b[38;5;241;43m.\u001b[39;49m\u001b[43m_outputs\u001b[49m\u001b[43m,\u001b[49m\n\u001b[0;32m    342\u001b[0m \u001b[43m\u001b[49m\u001b[43m)\u001b[49m\n\u001b[0;32m    343\u001b[0m \u001b[38;5;66;03m# Check model termination\u001b[39;00m\n\u001b[0;32m    344\u001b[0m clock_struct \u001b[38;5;241m=\u001b[39m \u001b[38;5;28mself\u001b[39m\u001b[38;5;241m.\u001b[39m_clock_struct\n",
      "File \u001b[1;32mc:\\Users\\SSAFY\\AppData\\Local\\Programs\\Python\\Python310\\lib\\site-packages\\aquacrop\\timestep\\run_single_timestep.py:147\u001b[0m, in \u001b[0;36msolution_single_time_step\u001b[1;34m(init_cond, param_struct, clock_struct, weather_step, outputs)\u001b[0m\n\u001b[0;32m    144\u001b[0m NewCond\u001b[38;5;241m.\u001b[39mdap \u001b[38;5;241m=\u001b[39m NewCond\u001b[38;5;241m.\u001b[39mdap \u001b[38;5;241m+\u001b[39m \u001b[38;5;241m1\u001b[39m\n\u001b[0;32m    145\u001b[0m \u001b[38;5;66;03m# Growing degree days after planting\u001b[39;00m\n\u001b[1;32m--> 147\u001b[0m gdd \u001b[38;5;241m=\u001b[39m \u001b[43mgrowing_degree_day\u001b[49m\u001b[43m(\u001b[49m\n\u001b[0;32m    148\u001b[0m \u001b[43m    \u001b[49m\u001b[43mCrop_\u001b[49m\u001b[38;5;241;43m.\u001b[39;49m\u001b[43mGDDmethod\u001b[49m\u001b[43m,\u001b[49m\u001b[43m \u001b[49m\u001b[43mCrop_\u001b[49m\u001b[38;5;241;43m.\u001b[39;49m\u001b[43mTupp\u001b[49m\u001b[43m,\u001b[49m\u001b[43m \u001b[49m\u001b[43mCrop_\u001b[49m\u001b[38;5;241;43m.\u001b[39;49m\u001b[43mTbase\u001b[49m\u001b[43m,\u001b[49m\u001b[43m \u001b[49m\u001b[43mtemp_max\u001b[49m\u001b[43m,\u001b[49m\u001b[43m \u001b[49m\u001b[43mtemp_min\u001b[49m\n\u001b[0;32m    149\u001b[0m \u001b[43m\u001b[49m\u001b[43m)\u001b[49m\n\u001b[0;32m    151\u001b[0m \u001b[38;5;66;03m# Update cumulative gdd counter\u001b[39;00m\n\u001b[0;32m    152\u001b[0m NewCond\u001b[38;5;241m.\u001b[39mgdd \u001b[38;5;241m=\u001b[39m gdd\n",
      "File \u001b[1;32mc:\\Users\\SSAFY\\AppData\\Local\\Programs\\Python\\Python310\\lib\\site-packages\\aquacrop\\solution\\growing_degree_day.py:66\u001b[0m, in \u001b[0;36mgrowing_degree_day\u001b[1;34m(GDDmethod, Tupp, Tbase, temp_max, temp_min)\u001b[0m\n\u001b[0;32m     63\u001b[0m temp_max \u001b[38;5;241m=\u001b[39m \u001b[38;5;28mmin\u001b[39m(temp_max, Tupp)\n\u001b[0;32m     64\u001b[0m temp_max \u001b[38;5;241m=\u001b[39m \u001b[38;5;28mmax\u001b[39m(temp_max, Tbase)\n\u001b[1;32m---> 66\u001b[0m temp_min \u001b[38;5;241m=\u001b[39m \u001b[38;5;28;43mmin\u001b[39;49m\u001b[43m(\u001b[49m\u001b[43mtemp_min\u001b[49m\u001b[43m,\u001b[49m\u001b[43m \u001b[49m\u001b[43mTupp\u001b[49m\u001b[43m)\u001b[49m\n\u001b[0;32m     67\u001b[0m Tmean \u001b[38;5;241m=\u001b[39m (temp_max \u001b[38;5;241m+\u001b[39m temp_min) \u001b[38;5;241m/\u001b[39m \u001b[38;5;241m2\u001b[39m\n\u001b[0;32m     68\u001b[0m Tmean \u001b[38;5;241m=\u001b[39m \u001b[38;5;28mmax\u001b[39m(Tmean, Tbase)\n",
      "\u001b[1;31mTypeError\u001b[0m: '<' not supported between instances of 'float' and 'Timestamp'"
     ]
    }
   ],
   "source": [
    "model.run_model(till_termination=True)\n"
   ]
  }
 ],
 "metadata": {
  "kernelspec": {
   "display_name": "Python 3",
   "language": "python",
   "name": "python3"
  },
  "language_info": {
   "codemirror_mode": {
    "name": "ipython",
    "version": 3
   },
   "file_extension": ".py",
   "mimetype": "text/x-python",
   "name": "python",
   "nbconvert_exporter": "python",
   "pygments_lexer": "ipython3",
   "version": "3.10.11"
  }
 },
 "nbformat": 4,
 "nbformat_minor": 2
}
